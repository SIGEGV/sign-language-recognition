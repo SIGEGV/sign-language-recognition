{
  "cells": [
    {
      "cell_type": "code",
      "source": [
        "# !pip install --upgrade keras\n"
      ],
      "metadata": {
        "id": "hS65A_jh13Et"
      },
      "execution_count": 7,
      "outputs": []
    },
    {
      "cell_type": "code",
      "source": [
        "import cv2,os\n",
        "import numpy as np\n",
        "import tensorflow as tf\n",
        "from keras.utils import to_categorical\n",
        "from keras.callbacks import ModelCheckpoint\n",
        "from keras.models import Sequential\n",
        "from keras.layers import Convolution2D\n",
        "from keras.layers import MaxPooling2D\n",
        "from keras.layers import Flatten\n",
        "from keras.layers import Dense , Dropout\n",
        "from sklearn.model_selection import train_test_split\n",
        "\n",
        "import cv2\n",
        "from keras.models import load_model\n",
        "from keras.preprocessing.image import load_img, img_to_array\n",
        "import numpy as np\n",
        "import tensorflow as tf\n",
        "import keras\n"
      ],
      "metadata": {
        "id": "PvH1kcflxgtH"
      },
      "execution_count": 2,
      "outputs": []
    },
    {
      "cell_type": "code",
      "execution_count": 3,
      "metadata": {
        "colab": {
          "base_uri": "https://localhost:8080/"
        },
        "id": "Jo_4An6xvrRd",
        "outputId": "e6efe132-89bb-4526-9cc0-0194ed8f0ec2"
      },
      "outputs": [
        {
          "output_type": "stream",
          "name": "stdout",
          "text": [
            "{'test': 0, 'train': 1}\n",
            "['test', 'train']\n",
            "[0, 1]\n"
          ]
        }
      ],
      "source": [
        "\n",
        "data_path='/content/drive/MyDrive/Colab Notebooks/DATASET'\n",
        "categories=os.listdir(data_path)\n",
        "labels=[i for i in range(len(categories))]\n",
        "\n",
        "label_dict=dict(zip(categories,labels)) #empty dictionary\n",
        "\n",
        "print(label_dict)\n",
        "print(categories)\n",
        "print(labels)"
      ]
    },
    {
      "cell_type": "code",
      "source": [
        "from google.colab import drive\n",
        "drive.mount('/content/drive')"
      ],
      "metadata": {
        "colab": {
          "base_uri": "https://localhost:8080/"
        },
        "id": "BA3wIsTCwGs0",
        "outputId": "7486872a-bd53-4b8e-b5ea-d25b68e06a63"
      },
      "execution_count": 1,
      "outputs": [
        {
          "output_type": "stream",
          "name": "stdout",
          "text": [
            "Mounted at /content/drive\n"
          ]
        }
      ]
    },
    {
      "cell_type": "code",
      "execution_count": 4,
      "metadata": {
        "id": "6f3yg4E_vrRd",
        "colab": {
          "base_uri": "https://localhost:8080/"
        },
        "outputId": "905d3a96-6b82-4fa5-974d-2663a5e6fe06"
      },
      "outputs": [
        {
          "output_type": "stream",
          "name": "stdout",
          "text": [
            "['W', 'T', 'R', 'Y', 'S', 'U', 'X', 'V', 'Q', 'Z', 'H', 'L', 'J', 'K', 'N', 'O', 'P', 'I', 'G', 'M', 'E', 'D', '0', 'C', 'B', 'F', 'A']\n",
            "[0, 1, 2, 3, 4, 5, 6, 7, 8, 9, 10, 11, 12, 13, 14, 15, 16, 17, 18, 19, 20, 21, 22, 23, 24, 25, 26]\n"
          ]
        }
      ],
      "source": [
        "data_path = \"/content/drive/MyDrive/Colab Notebooks/DATASET/train\"\n",
        "classes_path=os.listdir(data_path)\n",
        "classesf=os.listdir(data_path)\n",
        "print(classesf)\n",
        "labels_classes=[i for i in range(len(classesf))]\n",
        "print(labels_classes)"
      ]
    },
    {
      "cell_type": "code",
      "execution_count": 5,
      "metadata": {
        "id": "GWiBnXZkvrRe"
      },
      "outputs": [],
      "source": [
        "data_path='/content/drive/MyDrive/Colab Notebooks/DATASET'\n"
      ]
    },
    {
      "cell_type": "code",
      "execution_count": 6,
      "metadata": {
        "id": "rZeNZVd_vrRe"
      },
      "outputs": [],
      "source": [
        "label_classes_dict=dict(zip(classesf,labels_classes))"
      ]
    },
    {
      "cell_type": "code",
      "execution_count": 7,
      "metadata": {
        "id": "sNJRzEV4vrRe",
        "colab": {
          "base_uri": "https://localhost:8080/"
        },
        "outputId": "563aa143-b898-406f-a017-ccf9f5e31402"
      },
      "outputs": [
        {
          "output_type": "stream",
          "name": "stdout",
          "text": [
            "{'W': 0, 'T': 1, 'R': 2, 'Y': 3, 'S': 4, 'U': 5, 'X': 6, 'V': 7, 'Q': 8, 'Z': 9, 'H': 10, 'L': 11, 'J': 12, 'K': 13, 'N': 14, 'O': 15, 'P': 16, 'I': 17, 'G': 18, 'M': 19, 'E': 20, 'D': 21, '0': 22, 'C': 23, 'B': 24, 'F': 25, 'A': 26}\n"
          ]
        }
      ],
      "source": [
        "#print(labels_classes)\n",
        "#print(categories)\n",
        "print(label_classes_dict)"
      ]
    },
    {
      "cell_type": "code",
      "execution_count": 8,
      "metadata": {
        "id": "_yCvOr_JvrRe",
        "colab": {
          "base_uri": "https://localhost:8080/"
        },
        "outputId": "ae2027d3-8dc1-4b2c-fdfc-a708d1c35cc9"
      },
      "outputs": [
        {
          "output_type": "stream",
          "name": "stdout",
          "text": [
            "/content/drive/MyDrive/Colab Notebooks/DATASET/test\n",
            "['Z', 'Y', 'X', 'W', 'T', 'Q', 'P', 'R', 'S', 'N', 'U', 'V', 'O', 'J', 'L', 'F', 'G', 'M', 'D', 'E', 'K', 'I', 'H', '0', 'C', 'B', 'A']\n",
            "/content/drive/MyDrive/Colab Notebooks/DATASET/test/Z\n",
            "/content/drive/MyDrive/Colab Notebooks/DATASET/test/Y\n",
            "/content/drive/MyDrive/Colab Notebooks/DATASET/test/X\n",
            "/content/drive/MyDrive/Colab Notebooks/DATASET/test/W\n",
            "/content/drive/MyDrive/Colab Notebooks/DATASET/test/T\n",
            "/content/drive/MyDrive/Colab Notebooks/DATASET/test/Q\n",
            "/content/drive/MyDrive/Colab Notebooks/DATASET/test/P\n",
            "/content/drive/MyDrive/Colab Notebooks/DATASET/test/R\n",
            "/content/drive/MyDrive/Colab Notebooks/DATASET/test/S\n",
            "/content/drive/MyDrive/Colab Notebooks/DATASET/test/N\n",
            "/content/drive/MyDrive/Colab Notebooks/DATASET/test/U\n",
            "/content/drive/MyDrive/Colab Notebooks/DATASET/test/V\n",
            "/content/drive/MyDrive/Colab Notebooks/DATASET/test/O\n",
            "/content/drive/MyDrive/Colab Notebooks/DATASET/test/J\n",
            "/content/drive/MyDrive/Colab Notebooks/DATASET/test/L\n",
            "/content/drive/MyDrive/Colab Notebooks/DATASET/test/F\n",
            "/content/drive/MyDrive/Colab Notebooks/DATASET/test/G\n",
            "/content/drive/MyDrive/Colab Notebooks/DATASET/test/M\n",
            "/content/drive/MyDrive/Colab Notebooks/DATASET/test/D\n",
            "/content/drive/MyDrive/Colab Notebooks/DATASET/test/E\n",
            "/content/drive/MyDrive/Colab Notebooks/DATASET/test/K\n",
            "/content/drive/MyDrive/Colab Notebooks/DATASET/test/I\n",
            "/content/drive/MyDrive/Colab Notebooks/DATASET/test/H\n",
            "/content/drive/MyDrive/Colab Notebooks/DATASET/test/0\n",
            "/content/drive/MyDrive/Colab Notebooks/DATASET/test/C\n",
            "/content/drive/MyDrive/Colab Notebooks/DATASET/test/B\n",
            "/content/drive/MyDrive/Colab Notebooks/DATASET/test/A\n",
            "/content/drive/MyDrive/Colab Notebooks/DATASET/train\n",
            "['W', 'T', 'R', 'Y', 'S', 'U', 'X', 'V', 'Q', 'Z', 'H', 'L', 'J', 'K', 'N', 'O', 'P', 'I', 'G', 'M', 'E', 'D', '0', 'C', 'B', 'F', 'A']\n",
            "/content/drive/MyDrive/Colab Notebooks/DATASET/train/W\n",
            "/content/drive/MyDrive/Colab Notebooks/DATASET/train/T\n",
            "/content/drive/MyDrive/Colab Notebooks/DATASET/train/R\n",
            "/content/drive/MyDrive/Colab Notebooks/DATASET/train/Y\n",
            "/content/drive/MyDrive/Colab Notebooks/DATASET/train/S\n",
            "/content/drive/MyDrive/Colab Notebooks/DATASET/train/U\n",
            "/content/drive/MyDrive/Colab Notebooks/DATASET/train/X\n",
            "/content/drive/MyDrive/Colab Notebooks/DATASET/train/V\n",
            "/content/drive/MyDrive/Colab Notebooks/DATASET/train/Q\n",
            "/content/drive/MyDrive/Colab Notebooks/DATASET/train/Z\n",
            "/content/drive/MyDrive/Colab Notebooks/DATASET/train/H\n",
            "/content/drive/MyDrive/Colab Notebooks/DATASET/train/L\n",
            "/content/drive/MyDrive/Colab Notebooks/DATASET/train/J\n",
            "/content/drive/MyDrive/Colab Notebooks/DATASET/train/K\n",
            "/content/drive/MyDrive/Colab Notebooks/DATASET/train/N\n",
            "/content/drive/MyDrive/Colab Notebooks/DATASET/train/O\n",
            "/content/drive/MyDrive/Colab Notebooks/DATASET/train/P\n",
            "/content/drive/MyDrive/Colab Notebooks/DATASET/train/I\n",
            "/content/drive/MyDrive/Colab Notebooks/DATASET/train/G\n",
            "/content/drive/MyDrive/Colab Notebooks/DATASET/train/M\n",
            "/content/drive/MyDrive/Colab Notebooks/DATASET/train/E\n",
            "/content/drive/MyDrive/Colab Notebooks/DATASET/train/D\n",
            "/content/drive/MyDrive/Colab Notebooks/DATASET/train/0\n",
            "/content/drive/MyDrive/Colab Notebooks/DATASET/train/C\n",
            "/content/drive/MyDrive/Colab Notebooks/DATASET/train/B\n",
            "/content/drive/MyDrive/Colab Notebooks/DATASET/train/F\n",
            "/content/drive/MyDrive/Colab Notebooks/DATASET/train/A\n"
          ]
        }
      ],
      "source": [
        "img_size=128\n",
        "data=[]\n",
        "target=[]\n",
        "c=0\n",
        "minValue = 70\n",
        "for category in categories:\n",
        "\n",
        "    cat_path=os.path.join(data_path,category)\n",
        "    print(cat_path)\n",
        "    cat_names=os.listdir(cat_path)\n",
        "    print(cat_names)\n",
        "    for classes in cat_names:\n",
        "        folder_path=os.path.join(data_path,category,classes)\n",
        "        print(folder_path)\n",
        "        img_names=os.listdir(folder_path)\n",
        "        #print(img_names)\n",
        "        for img_name in img_names:\n",
        "            #print(img_name)\n",
        "            img_path=os.path.join(folder_path,img_name)\n",
        "            img=cv2.imread(img_path)\n",
        "\n",
        "            try:\n",
        "                gray=cv2.cvtColor(img,cv2.COLOR_BGR2GRAY)\n",
        "                blur = cv2.GaussianBlur(gray,(5,5),2)\n",
        "                th3 = cv2.adaptiveThreshold(blur,255,cv2.ADAPTIVE_THRESH_GAUSSIAN_C,cv2.THRESH_BINARY_INV,11,2)\n",
        "                ret, res = cv2.threshold(th3, minValue, 255, cv2.THRESH_BINARY_INV+cv2.THRESH_OTSU)\n",
        "                #res=np.array(res)\n",
        "                #print(type(res))\n",
        "            #Converting the image into gray scale\n",
        "                resized=cv2.resize(res,(img_size,img_size))\n",
        "            #resizing the gray scale into 50x50, since we need a fixed common size for all the images in the dataset\n",
        "                data.append(resized)\n",
        "                #print(data)\n",
        "                target.append(label_classes_dict[classes])\n",
        "            except Exception as e:\n",
        "                print('Exception:',e)\n",
        "\n",
        "\n",
        "\n"
      ]
    },
    {
      "cell_type": "code",
      "execution_count": 9,
      "metadata": {
        "id": "mxHWmRVHvrRe"
      },
      "outputs": [],
      "source": [
        "datanp=np.array(data)"
      ]
    },
    {
      "cell_type": "code",
      "execution_count": 10,
      "metadata": {
        "id": "46X5vRRAvrRe",
        "colab": {
          "base_uri": "https://localhost:8080/",
          "height": 168
        },
        "outputId": "29f811cf-d37e-4a5d-ae59-5e482dcb1b89"
      },
      "outputs": [
        {
          "output_type": "execute_result",
          "data": {
            "text/plain": [
              "array([[255, 255, 255, ..., 255, 255, 255],\n",
              "       [255, 255, 255, ..., 255, 255, 255],\n",
              "       [255, 255, 255, ..., 255, 255, 255],\n",
              "       ...,\n",
              "       [255, 255, 255, ..., 255, 255, 255],\n",
              "       [255, 255, 255, ..., 255, 255, 255],\n",
              "       [255, 255, 255, ..., 255, 255, 255]], dtype=uint8)"
            ],
            "text/html": [
              "<style>\n",
              "      .ndarray_repr .ndarray_raw_data {\n",
              "        display: none;\n",
              "      }\n",
              "      .ndarray_repr.show_array .ndarray_raw_data {\n",
              "        display: block;\n",
              "      }\n",
              "      .ndarray_repr.show_array .ndarray_image_preview {\n",
              "        display: none;\n",
              "      }\n",
              "      </style>\n",
              "      <div id=\"id-8f8b7821-4778-4a59-b64d-19ead70b7d85\" class=\"ndarray_repr\"><pre>ndarray (128, 128) <button style=\"padding: 0 2px;\">show data</button></pre><img src=\"data:image/png;base64,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\" class=\"ndarray_image_preview\" /><pre class=\"ndarray_raw_data\">array([[255, 255, 255, ..., 255, 255, 255],\n",
              "       [255, 255, 255, ..., 255, 255, 255],\n",
              "       [255, 255, 255, ..., 255, 255, 255],\n",
              "       ...,\n",
              "       [255, 255, 255, ..., 255, 255, 255],\n",
              "       [255, 255, 255, ..., 255, 255, 255],\n",
              "       [255, 255, 255, ..., 255, 255, 255]], dtype=uint8)</pre></div><script>\n",
              "      (() => {\n",
              "      const titles = ['show data', 'hide data'];\n",
              "      let index = 0\n",
              "      document.querySelector('#id-8f8b7821-4778-4a59-b64d-19ead70b7d85 button').onclick = (e) => {\n",
              "        document.querySelector('#id-8f8b7821-4778-4a59-b64d-19ead70b7d85').classList.toggle('show_array');\n",
              "        index = (++index) % 2;\n",
              "        document.querySelector('#id-8f8b7821-4778-4a59-b64d-19ead70b7d85 button').textContent = titles[index];\n",
              "        e.preventDefault();\n",
              "        e.stopPropagation();\n",
              "      }\n",
              "      })();\n",
              "    </script>"
            ]
          },
          "metadata": {},
          "execution_count": 10
        }
      ],
      "source": [
        "datanp.shape\n",
        "datanp[0]"
      ]
    },
    {
      "cell_type": "code",
      "execution_count": 11,
      "metadata": {
        "id": "jSftOv8_vrRe",
        "colab": {
          "base_uri": "https://localhost:8080/"
        },
        "outputId": "6ed2febe-2859-435d-daaa-35e691c35a0c"
      },
      "outputs": [
        {
          "output_type": "execute_result",
          "data": {
            "text/plain": [
              "9"
            ]
          },
          "metadata": {},
          "execution_count": 11
        }
      ],
      "source": [
        "targetnp=np.array(target)\n",
        "\n",
        "targetnp.shape\n",
        "\n",
        "targetnp[0]"
      ]
    },
    {
      "cell_type": "code",
      "execution_count": 12,
      "metadata": {
        "id": "xbEspE9SvrRe"
      },
      "outputs": [],
      "source": [
        "\n",
        "data=np.array(data)/255.0\n",
        "data=np.reshape(data,(data.shape[0],img_size,img_size,1))\n",
        "target=np.array(target)\n",
        "new_target = to_categorical(target)\n"
      ]
    },
    {
      "cell_type": "code",
      "execution_count": 13,
      "metadata": {
        "id": "RIl4grE5vrRe",
        "colab": {
          "base_uri": "https://localhost:8080/"
        },
        "outputId": "f2d121a7-32e9-4a4d-e485-3e18c5cb1821"
      },
      "outputs": [
        {
          "output_type": "execute_result",
          "data": {
            "text/plain": [
              "(17113, 27)"
            ]
          },
          "metadata": {},
          "execution_count": 13
        }
      ],
      "source": [
        "new_target.shape"
      ]
    },
    {
      "cell_type": "code",
      "execution_count": 14,
      "metadata": {
        "id": "SsmlOdMDvrRe"
      },
      "outputs": [],
      "source": [
        "np.save('data_img',data)\n",
        "np.save('target',new_target)"
      ]
    },
    {
      "cell_type": "code",
      "execution_count": 15,
      "metadata": {
        "id": "T8ojwHD4vrRe"
      },
      "outputs": [],
      "source": [
        "data=np.load('data_img.npy')\n",
        "target=np.load('target.npy')"
      ]
    },
    {
      "cell_type": "code",
      "execution_count": 16,
      "metadata": {
        "id": "MWxNCzN6vrRf"
      },
      "outputs": [],
      "source": [
        "train_data,test_data,train_target,test_target=train_test_split(data,new_target,test_size=0.2)"
      ]
    },
    {
      "cell_type": "code",
      "execution_count": 19,
      "metadata": {
        "id": "2E-gUp64vrRf",
        "colab": {
          "base_uri": "https://localhost:8080/"
        },
        "outputId": "8c7011e0-e07a-4930-d434-3b3379d51478"
      },
      "outputs": [
        {
          "output_type": "stream",
          "name": "stdout",
          "text": [
            "Model: \"sequential_1\"\n",
            "_________________________________________________________________\n",
            " Layer (type)                Output Shape              Param #   \n",
            "=================================================================\n",
            " conv2d_2 (Conv2D)           (None, 128, 128, 32)      320       \n",
            "                                                                 \n",
            " max_pooling2d_2 (MaxPoolin  (None, 64, 64, 32)        0         \n",
            " g2D)                                                            \n",
            "                                                                 \n",
            " conv2d_3 (Conv2D)           (None, 64, 64, 32)        9248      \n",
            "                                                                 \n",
            " max_pooling2d_3 (MaxPoolin  (None, 32, 32, 32)        0         \n",
            " g2D)                                                            \n",
            "                                                                 \n",
            " flatten_1 (Flatten)         (None, 32768)             0         \n",
            "                                                                 \n",
            " dense_4 (Dense)             (None, 128)               4194432   \n",
            "                                                                 \n",
            " dropout_2 (Dropout)         (None, 128)               0         \n",
            "                                                                 \n",
            " dense_5 (Dense)             (None, 96)                12384     \n",
            "                                                                 \n",
            " dropout_3 (Dropout)         (None, 96)                0         \n",
            "                                                                 \n",
            " dense_6 (Dense)             (None, 64)                6208      \n",
            "                                                                 \n",
            " dense_7 (Dense)             (None, 27)                1755      \n",
            "                                                                 \n",
            "=================================================================\n",
            "Total params: 4224347 (16.11 MB)\n",
            "Trainable params: 4224347 (16.11 MB)\n",
            "Non-trainable params: 0 (0.00 Byte)\n",
            "_________________________________________________________________\n"
          ]
        }
      ],
      "source": [
        "\n",
        "sz = 128\n",
        "# Step 1 - Building the CNN\n",
        "\n",
        "# Initializing the CNN\n",
        "classifier = Sequential()\n",
        "\n",
        "# First convolution layer and pooling\n",
        "classifier.add(Convolution2D(32, (3, 3), input_shape=(sz, sz, 1), activation='relu',padding='same'))\n",
        "classifier.add(MaxPooling2D(pool_size=(2, 2)))\n",
        "# Second convolution layer and pooling\n",
        "classifier.add(Convolution2D(32, (3, 3), activation='relu',padding='same'))\n",
        "# input_shape is going to be the pooled feature maps from the previous convolution layer\n",
        "classifier.add(MaxPooling2D(pool_size=(2, 2)))\n",
        "#classifier.add(Convolution2D(32, (3, 3), activation='relu'))\n",
        "# input_shape is going to be the pooled feature maps from the previous convolution layer\n",
        "#classifier.add(MaxPooling2D(pool_size=(2, 2)))\n",
        "\n",
        "# Flattening the layers\n",
        "classifier.add(Flatten())\n",
        "\n",
        "# Adding a fully connected layer\n",
        "classifier.add(Dense(units=128, activation='relu'))\n",
        "classifier.add(Dropout(0.40))\n",
        "classifier.add(Dense(units=96, activation='relu'))\n",
        "classifier.add(Dropout(0.40))\n",
        "classifier.add(Dense(units=64, activation='relu'))\n",
        "classifier.add(Dense(units=27, activation='softmax')) # softmax for more than 2\n",
        "\n",
        "# Compiling the CNN\n",
        "classifier.compile(optimizer='adam', loss='categorical_crossentropy', metrics=['accuracy']) # categorical_crossentropy for more than 2\n",
        "\n",
        "\n",
        "classifier.summary()"
      ]
    },
    {
      "cell_type": "code",
      "execution_count": null,
      "metadata": {
        "id": "SgCSIjU1vrRf",
        "colab": {
          "base_uri": "https://localhost:8080/"
        },
        "outputId": "80cebb2b-4d4c-47ed-b226-f9a6f1b6991a"
      },
      "outputs": [
        {
          "output_type": "stream",
          "name": "stdout",
          "text": [
            "Epoch 1/20\n",
            "300/300 [==============================] - 247s 820ms/step - loss: 2.1046 - accuracy: 0.3634 - val_loss: 0.3696 - val_accuracy: 0.9235\n",
            "Epoch 2/20\n",
            "149/300 [=============>................] - ETA: 1:47 - loss: 0.7599 - accuracy: 0.7529"
          ]
        }
      ],
      "source": [
        "checkpoint = ModelCheckpoint('model-{epoch:03d}.keras',monitor='val_loss',verbose=0,save_best_only=True,mode='auto')\n",
        "\n",
        "\n",
        "history=classifier.fit(train_data,train_target,shuffle=True,epochs=20,callbacks=[checkpoint],validation_split=0.3)"
      ]
    },
    {
      "cell_type": "code",
      "execution_count": null,
      "metadata": {
        "id": "lQHbQsn8vrRf"
      },
      "outputs": [],
      "source": [
        "print(classifier.evaluate(test_data,test_target))\n",
        "classifier.save('CNNmodel.h5')\n",
        "weights_file = drive.CreateFile({'title' : 'CNNmodel.h5'})\n",
        "weights_file.SetContentFile('CNNmodel.h5')<br>weights_file.Upload()\n",
        "drive.CreateFile({'id': weights_file.get('id')})"
      ]
    },
    {
      "cell_type": "code",
      "execution_count": 35,
      "metadata": {
        "id": "24PFhAw_vrRf",
        "colab": {
          "base_uri": "https://localhost:8080/",
          "height": 477
        },
        "outputId": "197dafc5-ba9a-4ebb-8c66-78938e741d4e"
      },
      "outputs": [
        {
          "output_type": "display_data",
          "data": {
            "text/plain": [
              "<Figure size 640x480 with 1 Axes>"
            ],
            "image/png": "[encoded data removed]"
          },
          "metadata": {}
        }
      ],
      "source": [
        "N = 20\n",
        "H=history\n",
        "plt.style.use(\"ggplot\")\n",
        "plt.figure()\n",
        "plt.plot(np.arange(0, N), H.history[\"loss\"], label=\"train_loss\")\n",
        "plt.plot(np.arange(0, N), H.history[\"val_loss\"], label=\"val_loss\")\n",
        "plt.plot(np.arange(0, N), H.history[\"accuracy\"], label=\"train_acc\")\n",
        "plt.plot(np.arange(0, N), H.history[\"val_accuracy\"], label=\"val_acc\")\n",
        "plt.title(\"Training Loss and Accuracy\")\n",
        "plt.xlabel(\"Epoch #\")\n",
        "plt.ylabel(\"Loss/Accuracy\")\n",
        "plt.legend(loc=\"lower left\")\n",
        "plt.savefig('evaluation.png')"
      ]
    },
    {
      "cell_type": "code",
      "execution_count": 33,
      "metadata": {
        "id": "Wf3bDMhfvrRf",
        "colab": {
          "base_uri": "https://localhost:8080/",
          "height": 449
        },
        "outputId": "9a62a31d-646d-4989-f733-ddb4ad3595f9"
      },
      "outputs": [
        {
          "output_type": "display_data",
          "data": {
            "text/plain": [
              "<Figure size 640x480 with 1 Axes>"
            ],
            "image/png": "[encoded data removed]"
          },
          "metadata": {}
        }
      ],
      "source": [
        "import matplotlib.pyplot as plt\n",
        "plt.plot(history.history['loss'])\n",
        "plt.plot(history.history['val_loss'])\n",
        "plt.xlabel('epochs')\n",
        "plt.ylabel('Loss')\n",
        "plt.legend(['train_loss','val_loss'], loc=0)\n",
        "plt.show()"
      ]
    },
    {
      "cell_type": "code",
      "execution_count": 34,
      "metadata": {
        "id": "Rq_62R56vrRf",
        "colab": {
          "base_uri": "https://localhost:8080/",
          "height": 449
        },
        "outputId": "f95d3518-95c0-456e-80ad-c82b935e3ac0"
      },
      "outputs": [
        {
          "output_type": "display_data",
          "data": {
            "text/plain": [
              "<Figure size 640x480 with 1 Axes>"
            ],
            "image/png": "[encoded data removed]"
          },
          "metadata": {}
        }
      ],
      "source": [
        "import matplotlib.pyplot as plt\n",
        "plt.plot(history.history['accuracy'])\n",
        "plt.plot(history.history['val_accuracy'])\n",
        "plt.xlabel('epochs')\n",
        "plt.ylabel('Accuracy')\n",
        "plt.legend(['train_accuracy','val_accuracy'], loc=0)\n",
        "plt.show()"
      ]
    },
    {
      "cell_type": "markdown",
      "source": [
        "# **OPEN-CV**"
      ],
      "metadata": {
        "id": "dbAIfshv6gLU"
      }
    },
    {
      "cell_type": "code",
      "source": [
        "labels_dict = {0:'0',\n",
        "                 1:'A',\n",
        "                 2:'B',\n",
        "                 3:'C',\n",
        "                 4:'D',\n",
        "                 5:'E',\n",
        "                 6:'F',\n",
        "                 7:'G',\n",
        "                 8:'H',\n",
        "                 9:'I',\n",
        "                 10:'J',\n",
        "                 11:'K',\n",
        "                 12:'L',\n",
        "                 13:'M',\n",
        "                 14:'N',\n",
        "                 15:'O',\n",
        "                 16:'P',\n",
        "                 17:\"Q\",\n",
        "                 18:'R',\n",
        "                 19:'S',\n",
        "                 20:'T',\n",
        "                 21:'U',\n",
        "                 22:'V',\n",
        "                 23:'W',\n",
        "                 24:'X',\n",
        "                 25:'Y',\n",
        "                 26:'Z'}\n",
        "color_dict=(0,255,0)\n",
        "x=0\n",
        "y=0\n",
        "w=64\n",
        "h=64"
      ],
      "metadata": {
        "id": "Gt0glQBi-e-_"
      },
      "execution_count": 44,
      "outputs": []
    },
    {
      "cell_type": "code",
      "source": [
        "!pip install opencv-python-headless\n"
      ],
      "metadata": {
        "colab": {
          "base_uri": "https://localhost:8080/"
        },
        "id": "jzWDpQuACl1h",
        "outputId": "af851739-869b-4721-bb77-b1db75d30142"
      },
      "execution_count": 45,
      "outputs": [
        {
          "output_type": "stream",
          "name": "stdout",
          "text": [
            "Requirement already satisfied: opencv-python-headless in /usr/local/lib/python3.10/dist-packages (4.9.0.80)\n",
            "Requirement already satisfied: numpy>=1.21.2 in /usr/local/lib/python3.10/dist-packages (from opencv-python-headless) (1.25.2)\n"
          ]
        }
      ]
    },
    {
      "cell_type": "code",
      "source": [
        "from google.colab import output\n",
        "\n",
        "def enable_camera():\n",
        "    output.eval_js('''\n",
        "    async function enableCamera() {\n",
        "      const stream = await navigator.mediaDevices.getUserMedia({video: true});\n",
        "      const video = document.createElement('video');\n",
        "      document.body.appendChild(video);\n",
        "      video.srcObject = stream;\n",
        "      await video.play();\n",
        "    }\n",
        "    enableCamera();\n",
        "    ''')\n",
        "\n",
        "# Ensure that the user has granted permission to the website to access the webcam.\n",
        "# If the user has not granted permission, the following line will raise an error.\n",
        "enable_camera()\n",
        "\n",
        "# If the code reaches this point, the user has granted permission to the website to access the webcam."
      ],
      "metadata": {
        "id": "2f7Q7ZvTGjTH"
      },
      "execution_count": null,
      "outputs": []
    },
    {
      "cell_type": "code",
      "source": [
        "import cv2\n",
        "import numpy as np\n",
        "\n",
        "img_size = 128\n",
        "minValue = 70\n",
        "source = cv2.VideoCapture(0)\n",
        "count = 0\n",
        "string = \" \"\n",
        "prev = \" \"\n",
        "prev_val = 0\n",
        "\n",
        "while True:\n",
        "    ret,img = source.read()\n",
        "\n",
        "    if not ret:  # Check if frame is captured successfully\n",
        "        continue\n",
        "\n",
        "    gray = cv2.cvtColor(img, cv2.COLOR_BGR2GRAY)\n",
        "    cv2.rectangle(img, (24, 24), (250, 250), (255, 0, 0), 2)  # Assuming color_dict is defined somewhere else\n",
        "\n",
        "    crop_img = gray[24:250, 24:250]\n",
        "    count = count + 1\n",
        "\n",
        "    if count % 100 == 0:\n",
        "        prev_val = count\n",
        "\n",
        "    cv2.putText(img, str(prev_val // 100), (300, 150), cv2.FONT_HERSHEY_SIMPLEX, 1.5, (255, 255, 255), 2)\n",
        "\n",
        "    blur = cv2.GaussianBlur(crop_img, (5, 5), 2)\n",
        "    th3 = cv2.adaptiveThreshold(blur, 255, cv2.ADAPTIVE_THRESH_GAUSSIAN_C, cv2.THRESH_BINARY_INV, 11, 2)\n",
        "    ret, res = cv2.threshold(th3, minValue, 255, cv2.THRESH_BINARY_INV + cv2.THRESH_OTSU)\n",
        "\n",
        "    resized = cv2.resize(res, (img_size, img_size))\n",
        "    normalized = resized / 255.0\n",
        "    reshaped = np.reshape(normalized, (1, img_size, img_size, 1))\n",
        "    result = model.predict(reshaped)  # Assuming model is defined somewhere else\n",
        "\n",
        "    label = np.argmax(result, axis=1)[0]\n",
        "\n",
        "    if count == 300:\n",
        "        count = 99\n",
        "        prev = labels_dict[label] if label != 0 else \" \"\n",
        "        string = string + prev if label != 0 else string + \" \"\n",
        "\n",
        "    cv2.putText(img, prev, (24, 14), cv2.FONT_HERSHEY_SIMPLEX, 0.8, (255, 255, 255), 2)\n",
        "    cv2.putText(img, string, (275, 50), cv2.FONT_HERSHEY_SIMPLEX, 0.8, (200, 200, 200), 2)\n",
        "\n",
        "    cv2.imshow(\"Gray\", res)\n",
        "    cv2.imshow('LIVE', img)\n",
        "\n",
        "    key = cv2.waitKey(1)\n",
        "\n",
        "    if key == 27:  # Press Esc. to exit\n",
        "        break\n",
        "\n",
        "print(string)\n",
        "cv2.destroyAllWindows()\n",
        "source.release()\n"
      ],
      "metadata": {
        "colab": {
          "base_uri": "https://localhost:8080/",
          "height": 216
        },
        "id": "Ndc_BS_e57A9",
        "outputId": "ba355093-d251-45bd-d3ee-b0e6c3ec6e14"
      },
      "execution_count": 50,
      "outputs": [
        {
          "output_type": "error",
          "ename": "KeyboardInterrupt",
          "evalue": "",
          "traceback": [
            "\u001b[0;31m---------------------------------------------------------------------------\u001b[0m",
            "\u001b[0;31mKeyboardInterrupt\u001b[0m                         Traceback (most recent call last)",
            "\u001b[0;32m<ipython-input-50-12bfc505af70>\u001b[0m in \u001b[0;36m<cell line: 12>\u001b[0;34m()\u001b[0m\n\u001b[1;32m     11\u001b[0m \u001b[0;34m\u001b[0m\u001b[0m\n\u001b[1;32m     12\u001b[0m \u001b[0;32mwhile\u001b[0m \u001b[0;32mTrue\u001b[0m\u001b[0;34m:\u001b[0m\u001b[0;34m\u001b[0m\u001b[0;34m\u001b[0m\u001b[0m\n\u001b[0;32m---> 13\u001b[0;31m     \u001b[0mret\u001b[0m\u001b[0;34m,\u001b[0m \u001b[0mimg\u001b[0m \u001b[0;34m=\u001b[0m \u001b[0msource\u001b[0m\u001b[0;34m.\u001b[0m\u001b[0mread\u001b[0m\u001b[0;34m(\u001b[0m\u001b[0;34m)\u001b[0m\u001b[0;34m\u001b[0m\u001b[0;34m\u001b[0m\u001b[0m\n\u001b[0m\u001b[1;32m     14\u001b[0m \u001b[0;34m\u001b[0m\u001b[0m\n\u001b[1;32m     15\u001b[0m     \u001b[0;32mif\u001b[0m \u001b[0;32mnot\u001b[0m \u001b[0mret\u001b[0m\u001b[0;34m:\u001b[0m  \u001b[0;31m# Check if frame is captured successfully\u001b[0m\u001b[0;34m\u001b[0m\u001b[0;34m\u001b[0m\u001b[0m\n",
            "\u001b[0;31mKeyboardInterrupt\u001b[0m: "
          ]
        }
      ]
    }
  ],
  "metadata": {
    "kernelspec": {
      "display_name": "Python 3",
      "language": "python",
      "name": "python3"
    },
    "language_info": {
      "codemirror_mode": {
        "name": "ipython",
        "version": 3
      },
      "file_extension": ".py",
      "mimetype": "text/x-python",
      "name": "python",
      "nbconvert_exporter": "python",
      "pygments_lexer": "ipython3",
      "version": "3.7.4"
    },
    "colab": {
      "provenance": []
    }
  },
  "nbformat": 4,
  "nbformat_minor": 0
}